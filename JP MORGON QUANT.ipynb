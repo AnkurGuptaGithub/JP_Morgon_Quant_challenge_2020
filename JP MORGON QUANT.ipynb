{
 "cells": [
  {
   "cell_type": "code",
   "execution_count": 15,
   "metadata": {},
   "outputs": [],
   "source": [
    "import pandas as pd\n",
    "import numpy as np \n",
    "import matplotlib.pyplot as plt\n",
    "from scipy import interpolate\n",
    "from datetime import datetime\n",
    "import math"
   ]
  },
  {
   "cell_type": "code",
   "execution_count": null,
   "metadata": {},
   "outputs": [],
   "source": [
    "df= pd.read_csv('Q1_Data.csv')\n",
    "df2= pd.DataFrame(columns=['Times'])\n",
    "for i in range(len(df['Date'])):\n",
    "    df2= df2.append({'Times' :datetime.strptime(df['Date'][i], '%m/%d/%Y')}, ignore_index=True)\n",
    "df['Date']=df2\n",
    "df=df.set_index('Date', drop= False)\n",
    "df['Date']= (df['Date']- df['Date'][0])"
   ]
  },
  {
   "cell_type": "code",
   "execution_count": null,
   "metadata": {},
   "outputs": [],
   "source": [
    "df.head()"
   ]
  },
  {
   "cell_type": "code",
   "execution_count": null,
   "metadata": {},
   "outputs": [],
   "source": [
    "plt.figure(figsize=(12,8))\n",
    "plt.plot(df['Date'],df['Price'],'o-')"
   ]
  },
  {
   "cell_type": "markdown",
   "metadata": {},
   "source": [
    "## First question"
   ]
  },
  {
   "cell_type": "code",
   "execution_count": null,
   "metadata": {},
   "outputs": [],
   "source": [
    "e=0\n",
    "x=[]\n",
    "y=[]\n",
    "for i in range(1,13):\n",
    "    if df['Price'][i]>df['Price'][i+1] and df['Price'][i]>df['Price'][i-1]:\n",
    "        for j in range(4):\n",
    "            x.append((df['Date'][datetime(df.index[i].year+j, df.index[i].month, df.index[i].day)]).days)\n",
    "            y.append(df['Price'][datetime(df.index[i].year+j, df.index[i].month, df.index[i].day)])\n",
    "        f = interpolate.interp1d(x[-4:], y[-4:] ,bounds_error= False, fill_value='extrapolate')\n",
    "        df= df.append(pd.Series({'Price':float( f( (datetime(df.index[i].year+j+1, df.index[i].month, df.index[i].day)- df.index[0]).days)),\n",
    "                                 'Date':(datetime(df.index[i].year+j+1, df.index[i].month, df.index[i].day)- df.index[0] ) } ,\n",
    "                                name= datetime(df.index[i].year+j+1, df.index[i].month, df.index[i].day)))\n",
    "        e+=1\n",
    "    elif df['Price'][i]<df['Price'][i+1] and df['Price'][i]<df['Price'][i-1] :\n",
    "        for j in range(4):\n",
    "            x.append((df['Date'][datetime(df.index[i].year+j, df.index[i].month, df.index[i].day)]).days)\n",
    "            y.append(df['Price'][datetime(df.index[i].year+j, df.index[i].month, df.index[i].day)])\n",
    "        f = interpolate.interp1d(x[-4:], y[-4:] ,bounds_error= False, fill_value='extrapolate')\n",
    "        df= df.append(pd.Series({'Price':float( f( (datetime(df.index[i].year+j+1, df.index[i].month, df.index[i].day)- df.index[0]).days)),\n",
    "                                 'Date':(datetime(df.index[i].year+j+1, df.index[i].month, df.index[i].day)- df.index[0] ) } ,\n",
    "                                name= datetime(df.index[i].year+j+1, df.index[i].month, df.index[i].day)))\n",
    "        e+=1\n",
    "    if e==4:\n",
    "        break"
   ]
  },
  {
   "cell_type": "code",
   "execution_count": null,
   "metadata": {},
   "outputs": [],
   "source": [
    "f = interpolate.interp1d( df['Date'].dt.days ,df['Price'] ,kind='cubic',bounds_error= False, fill_value='extrapolate')\n",
    "ynew= f(np.arange(0, int(df['Date'][-1:].dt.days) +1, 1))\n",
    "plt.figure(figsize=(12,8))\n",
    "plt.plot( df['Date'].dt.days,df['Price'], 'o', np.arange(0, int(df['Date'][-1:].dt.days) +1, 1), ynew, '-')"
   ]
  },
  {
   "cell_type": "markdown",
   "metadata": {},
   "source": [
    "## Second question"
   ]
  },
  {
   "cell_type": "code",
   "execution_count": null,
   "metadata": {},
   "outputs": [],
   "source": [
    "cost_per_day = int(input('Cost in $ for storage per day: '))\n",
    "volume = int(input('Storage Volume: '))"
   ]
  },
  {
   "cell_type": "code",
   "execution_count": null,
   "metadata": {},
   "outputs": [],
   "source": [
    "def long_term(y, cost_per_day, volume):\n",
    "    return (y[-1:]-y[0])*volume - cost_per_day*len(y)*volume\n",
    "long_term(ynew, cost_per_day, volume)"
   ]
  },
  {
   "cell_type": "markdown",
   "metadata": {},
   "source": [
    "## Third question"
   ]
  },
  {
   "cell_type": "code",
   "execution_count": null,
   "metadata": {},
   "outputs": [],
   "source": [
    "i= int(input('Day of injection: '))\n",
    "l= int(input('Day of extraction: '))\n",
    "def short_term(y,i,l, cost_per_day, volume):\n",
    "    return (y[l-1]-y[i-1])*volume - cost_per_day*len(y)*volume\n",
    "short_term(ynew,i,l, cost_per_day, volume)"
   ]
  },
  {
   "cell_type": "markdown",
   "metadata": {},
   "source": [
    "## Fourth question"
   ]
  },
  {
   "cell_type": "code",
   "execution_count": null,
   "metadata": {},
   "outputs": [],
   "source": [
    "rate = int(input('Rate of injection/extraction: '))\n",
    "penalty = int(input('Penalty: '))\n",
    "inj = input('Injection dates in mm/dd/yyy format: ').split(' ')\n",
    "ext = input('Extraction dates in mm/dd/yyy format: ').split(' ')\n",
    "inj_ext= np.zeros(len(y))\n",
    "for i in inj:\n",
    "    inj_ext[(datetime.strptime(i, '%m/%d/%Y')-df.index[0]).dt.days]=1\n",
    "for i in ext:\n",
    "    inj_ext[(datetime.strptime(i, '%m/%d/%Y')-df.index[0]).dt.days]= -1\n",
    "def with_penalty(y, inj_ext,rate, penalty , cost_per_day, volume):\n",
    "    volume_filled=0\n",
    "    value=0\n",
    "    for i in range(inj_ext):\n",
    "        if inj_ext[i]==1:\n",
    "            volume_filled+=rate\n",
    "            value-= y[i]*rate*10**(-6)\n",
    "        elif inj_ext[i]==-1 and volume_filled>=rate:\n",
    "            volume_filled-+rate\n",
    "            value+= y[i]*rate*10**(-6)\n",
    "        if volume_filled > volume:\n",
    "            value-= penalty \n",
    "        value-= cost_per_day*volume_filled"
   ]
  },
  {
   "cell_type": "markdown",
   "metadata": {},
   "source": [
    "## Fifth Question"
   ]
  },
  {
   "cell_type": "code",
   "execution_count": null,
   "metadata": {},
   "outputs": [],
   "source": [
    "dates= input('Possible Injection/Extraction dates in mm/dd/yyy format: ').split(' ')\n",
    "drift = input().split(' ')\n",
    "inj = input('Injection dates in mm/dd/yyy format: ').split(' ')\n",
    "ext = input('Extraction dates in mm/dd/yyy format: ').split(' ')\n",
    "sigma= int(input())\n",
    "s_o = input('Price at first day ')\n",
    "m= input('No. of paths: ')"
   ]
  },
  {
   "cell_type": "code",
   "execution_count": null,
   "metadata": {},
   "outputs": [],
   "source": [
    "p_c=[]\n",
    "for i in range(m):\n",
    "    drift_t1 = sum([i for i in drift[:dates.index(inj)] ])\n",
    "    drift_t2 = sum([i for i in drift[:dates.index(ext)] ])\n",
    "    s_t1= s_o*math.exp(drift_t1 - sigma**2*dates.index(inj)/2 +sigma*np.random.normal(scale=dates.index(inj) ))\n",
    "    s_t2= s_o*math.exp(drift_t2 - sigma**2*dates.index(ext)/2 +sigma*np.random.normal(scale=dates.index(ext) ))\n",
    "    p_c.append((s_t2 - s_t1)*volume- (dates.index(ext)- dates.index(inj))*cost_per_day*volume )\n",
    "    \n",
    "print('Price of contract is :', np.mean(p_c))"
   ]
  }
 ],
 "metadata": {
  "kernelspec": {
   "display_name": "Python 3",
   "language": "python",
   "name": "python3"
  },
  "language_info": {
   "codemirror_mode": {
    "name": "ipython",
    "version": 3
   },
   "file_extension": ".py",
   "mimetype": "text/x-python",
   "name": "python",
   "nbconvert_exporter": "python",
   "pygments_lexer": "ipython3",
   "version": "3.7.4"
  }
 },
 "nbformat": 4,
 "nbformat_minor": 2
}
